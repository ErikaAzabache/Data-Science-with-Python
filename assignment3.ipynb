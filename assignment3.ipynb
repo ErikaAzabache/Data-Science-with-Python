{
 "cells": [
  {
   "cell_type": "code",
   "execution_count": 4,
   "metadata": {},
   "outputs": [],
   "source": [
    "import numpy\n",
    "from gzip import GzipFile\n",
    "import struct\n",
    "import numpy as np\n",
    "import pickle\n",
    "from sklearn import svm, metrics\n",
    "from sklearn.model_selection import GridSearchCV\n",
    "\n",
    "# http://yann.lecun.com/exdb/mnist/"
   ]
  },
  {
   "cell_type": "markdown",
   "metadata": {},
   "source": [
    "<center> <h1> TRAINING SET IMAGE FILE</h1> </center>\n",
    "\n",
    "|[offset] | [type]       |   [value]   |       [description] |\n",
    "|---------|--------------|-------------|---------------------|\n",
    "|0000     |32 bit integer  | 0x00000803(2051)| magic number \n",
    "|0004     |32 bit integer  | 60000           | number of images \n",
    "|0008     |32 bit integer  |28               |number of rows \n",
    "|0012     |32 bit integer  |28               |number of columns \n",
    "|0016     |unsigned byte   |??               |pixel \n",
    "|0017     |unsigned byte   |??               |pixel "
   ]
  },
  {
   "cell_type": "code",
   "execution_count": 24,
   "metadata": {},
   "outputs": [],
   "source": [
    "def load_mnist_features(path):\n",
    "    # 16 first bytes, MSB first, 4 integers.\n",
    "    t = GzipFile(path, 'rb')\n",
    "    magic, n_samples, n_rows, n_columns = struct.unpack(\">iiii\", t.read(16))\n",
    "    assert(magic == 2051)\n",
    "\n",
    "    print(magic, n_samples, n_rows, n_columns)\n",
    "    # samples x features matrix\n",
    "    # samples are the images (60k)\n",
    "    # features are each pixel value (28x28=784 features)\n",
    "    m = np.zeros((n_samples, n_rows * n_columns), dtype = np.uint8)\n",
    "    for i in range(n_samples):\n",
    "        digit_data = t.read(n_rows * n_columns)\n",
    "        m[i,:] = np.frombuffer(digit_data, dtype = np.uint8)\n",
    "    m = m.astype(np.float) / 255.0\n",
    "    return m"
   ]
  },
  {
   "cell_type": "markdown",
   "metadata": {},
   "source": [
    "<center> <h1> TRAINING SET LABEL FILE </h1> </center>\n",
    "\n",
    "|[offset] |[type]        |    [value]      |    [description] \n",
    "|---------|--------------|-----------------|---------------------|\n",
    "|0000     |32 bit integer | 0x00000801(2049)| magic number (MSB first) \n",
    "|0004     |32 bit integer  |60000            |number of items \n",
    "|0008     |unsigned byte   |??               |label \n",
    "|0009     |unsigned byte   |??               |label "
   ]
  },
  {
   "cell_type": "code",
   "execution_count": 25,
   "metadata": {},
   "outputs": [],
   "source": [
    "#integers are in big-endian, so we need to use >\n",
    "def load_mnist_labels(path):\n",
    "\tt = GzipFile(path, 'rb')\n",
    "\tmagic, n_samples = struct.unpack(\">ii\", t.read(8))\n",
    "\tassert(magic == 2049)\n",
    "\n",
    "\tprint(magic, n_samples)\n",
    "\n",
    "\tm = np.zeros(n_samples, dtype = np.uint8)\n",
    "\t# each label is a unsigned byte, the number of labels is n_samples\n",
    "\tlabel_data = t.read(n_samples)\n",
    "\tm[:] = np.frombuffer(label_data, dtype = np.uint8)\n",
    "\treturn m"
   ]
  },
  {
   "cell_type": "code",
   "execution_count": 5,
   "metadata": {},
   "outputs": [
    {
     "name": "stdout",
     "output_type": "stream",
     "text": [
      "--2019-03-22 19:58:54--  http://yann.lecun.com/exdb/mnist/train-images-idx3-ubyte.gz\n",
      "Resolving yann.lecun.com (yann.lecun.com)... 216.165.22.6\n",
      "Connecting to yann.lecun.com (yann.lecun.com)|216.165.22.6|:80... connected.\n",
      "HTTP request sent, awaiting response... 200 OK\n",
      "Length: 9912422 (9.5M) [application/x-gzip]\n",
      "Saving to: ‘train-images-idx3-ubyte.gz’\n",
      "\n",
      "train-images-idx3-u 100%[===================>]   9.45M   465KB/s    in 22s     \n",
      "\n",
      "2019-03-22 19:59:15 (449 KB/s) - ‘train-images-idx3-ubyte.gz’ saved [9912422/9912422]\n",
      "\n"
     ]
    }
   ],
   "source": [
    "!wget http://yann.lecun.com/exdb/mnist/train-images-idx3-ubyte.gz"
   ]
  },
  {
   "cell_type": "code",
   "execution_count": 6,
   "metadata": {},
   "outputs": [
    {
     "name": "stdout",
     "output_type": "stream",
     "text": [
      "--2019-03-22 19:59:23--  http://yann.lecun.com/exdb/mnist/train-labels-idx1-ubyte.gz\n",
      "Resolving yann.lecun.com (yann.lecun.com)... 216.165.22.6\n",
      "Connecting to yann.lecun.com (yann.lecun.com)|216.165.22.6|:80... connected.\n",
      "HTTP request sent, awaiting response... 200 OK\n",
      "Length: 28881 (28K) [application/x-gzip]\n",
      "Saving to: ‘train-labels-idx1-ubyte.gz’\n",
      "\n",
      "train-labels-idx1-u 100%[===================>]  28.20K  --.-KB/s    in 0.1s    \n",
      "\n",
      "2019-03-22 19:59:23 (200 KB/s) - ‘train-labels-idx1-ubyte.gz’ saved [28881/28881]\n",
      "\n"
     ]
    }
   ],
   "source": [
    "!wget http://yann.lecun.com/exdb/mnist/train-labels-idx1-ubyte.gz"
   ]
  },
  {
   "cell_type": "code",
   "execution_count": 7,
   "metadata": {},
   "outputs": [
    {
     "name": "stdout",
     "output_type": "stream",
     "text": [
      "--2019-03-22 19:59:51--  http://yann.lecun.com/exdb/mnist/t10k-images-idx3-ubyte.gz\n",
      "Resolving yann.lecun.com (yann.lecun.com)... 216.165.22.6\n",
      "Connecting to yann.lecun.com (yann.lecun.com)|216.165.22.6|:80... connected.\n",
      "HTTP request sent, awaiting response... 200 OK\n",
      "Length: 1648877 (1.6M) [application/x-gzip]\n",
      "Saving to: ‘t10k-images-idx3-ubyte.gz’\n",
      "\n",
      "t10k-images-idx3-ub 100%[===================>]   1.57M   428KB/s    in 4.1s    \n",
      "\n",
      "2019-03-22 19:59:56 (397 KB/s) - ‘t10k-images-idx3-ubyte.gz’ saved [1648877/1648877]\n",
      "\n"
     ]
    }
   ],
   "source": [
    "!wget http://yann.lecun.com/exdb/mnist/t10k-images-idx3-ubyte.gz"
   ]
  },
  {
   "cell_type": "code",
   "execution_count": 8,
   "metadata": {},
   "outputs": [
    {
     "name": "stdout",
     "output_type": "stream",
     "text": [
      "--2019-03-22 20:00:19--  http://yann.lecun.com/exdb/mnist/t10k-labels-idx1-ubyte.gz\n",
      "Resolving yann.lecun.com (yann.lecun.com)... 216.165.22.6\n",
      "Connecting to yann.lecun.com (yann.lecun.com)|216.165.22.6|:80... connected.\n",
      "HTTP request sent, awaiting response... 200 OK\n",
      "Length: 4542 (4.4K) [application/x-gzip]\n",
      "Saving to: ‘t10k-labels-idx1-ubyte.gz’\n",
      "\n",
      "t10k-labels-idx1-ub 100%[===================>]   4.44K  --.-KB/s    in 0s      \n",
      "\n",
      "2019-03-22 20:00:19 (74.7 MB/s) - ‘t10k-labels-idx1-ubyte.gz’ saved [4542/4542]\n",
      "\n"
     ]
    }
   ],
   "source": [
    "!wget http://yann.lecun.com/exdb/mnist/t10k-labels-idx1-ubyte.gz"
   ]
  },
  {
   "cell_type": "code",
   "execution_count": 12,
   "metadata": {},
   "outputs": [
    {
     "name": "stdout",
     "output_type": "stream",
     "text": [
      "2051 60000 28 28\n",
      "2049 60000\n",
      "2051 10000 28 28\n",
      "2049 10000\n",
      "====== Basic SVC ======\n",
      "Training Accuracy: 0.943\n",
      "Test Accuracy: 0.9446\n"
     ]
    }
   ],
   "source": [
    "train_features = load_mnist_features(\"train-images-idx3-ubyte.gz\")\n",
    "train_labels   = load_mnist_labels  (\"train-labels-idx1-ubyte.gz\")\n",
    "test_features  = load_mnist_features(\"t10k-images-idx3-ubyte.gz\")\n",
    "test_labels\t= load_mnist_labels  (\"t10k-labels-idx1-ubyte.gz\")\n",
    "\n",
    "DO_TRAIN=False\n",
    "\n",
    "DO_RUN_BASIC=True\n",
    "\n",
    "if DO_TRAIN:\n",
    "\tclf = svm.SVC(kernel='rbf')\n",
    "\tclf.fit(train_features, train_labels)\n",
    "\twith open(\"svm_model_basic.pkl\", 'wb') as file:\n",
    "\t\tpickle.dump(clf, file)\n",
    "else:\n",
    "\tclf = pickle.load(open(\"svm_model_basic.pkl\", 'rb'))\n",
    "\n",
    "if DO_RUN_BASIC:\n",
    "\tprint(\"====== Basic SVC ======\")\n",
    "\ty_train = clf.predict(train_features)\n",
    "\tprint(\"Training Accuracy:\", metrics.accuracy_score(train_labels, y_train))\n",
    "\n",
    "\ty_test = clf.predict(test_features)\n",
    "\tprint(\"Test Accuracy:\", metrics.accuracy_score(test_labels, y_test))\n",
    "\n",
    "# using grid-search to find best meta-parameters"
   ]
  },
  {
   "cell_type": "markdown",
   "metadata": {},
   "source": [
    "### Parameter Selection\n",
    "* As we increase C, we obtain a larger margin for our SVM. \n",
    "\n",
    "* A \"narrow cushion translates into little / no mistakes\" and a \"wide cushion, quite a few mistakes\"\n",
    "\n",
    "* A large gamma can cause the model to overfit and be prone to low bias/high variance. \n",
    "\n",
    "* A small gamma means the model is less prone to overfitting, but you may risk not learning a decision boundary that captures your data.\n",
    "\n",
    "* If gamma='scale' is passed then it uses 1 / (n_features * X.var()) as value of gamma"
   ]
  },
  {
   "cell_type": "code",
   "execution_count": 16,
   "metadata": {},
   "outputs": [],
   "source": [
    "def svc_param_selection(X, y, nfolds):\n",
    "\tCs = [10, 100, 1000]\n",
    "\tparam_grid = {'C': Cs }\n",
    "\tgrid_search = GridSearchCV(svm.SVC(kernel='rbf', gamma='scale'), param_grid, cv=nfolds, n_jobs=4, verbose=True)\n",
    "\tgrid_search.fit(X, y)\n",
    "\tprint(grid_search.best_params_)\n",
    "\treturn grid_search"
   ]
  },
  {
   "cell_type": "code",
   "execution_count": 17,
   "metadata": {},
   "outputs": [
    {
     "name": "stdout",
     "output_type": "stream",
     "text": [
      "Fitting 2 folds for each of 3 candidates, totalling 6 fits\n"
     ]
    },
    {
     "name": "stderr",
     "output_type": "stream",
     "text": [
      "[Parallel(n_jobs=4)]: Using backend LokyBackend with 4 concurrent workers.\n",
      "[Parallel(n_jobs=4)]: Done   6 out of   6 | elapsed: 20.3min remaining:    0.0s\n",
      "[Parallel(n_jobs=4)]: Done   6 out of   6 | elapsed: 20.3min finished\n"
     ]
    },
    {
     "name": "stdout",
     "output_type": "stream",
     "text": [
      "{'C': 10}\n"
     ]
    }
   ],
   "source": [
    "best_clf = svc_param_selection(train_features, train_labels, 2)\n",
    "with open(\"svm_model_best.pkl\", 'wb') as file:\n",
    "\tpickle.dump(best_clf, file)"
   ]
  },
  {
   "cell_type": "code",
   "execution_count": 18,
   "metadata": {},
   "outputs": [
    {
     "name": "stdout",
     "output_type": "stream",
     "text": [
      "====== Grid-Search SVC ======\n",
      "Test Accuracy: 0.9837\n",
      "Training Accuracy: 0.9999\n"
     ]
    }
   ],
   "source": [
    "best_clf = pickle.load(open(\"svm_model_best.pkl\", 'rb'))\n",
    "\n",
    "print(\"====== Grid-Search SVC ======\")\n",
    "y_test = best_clf.predict(test_features)\n",
    "print(\"Test Accuracy:\", metrics.accuracy_score(test_labels, y_test))\n",
    "\n",
    "y_train = best_clf.predict(train_features)\n",
    "print(\"Training Accuracy:\", metrics.accuracy_score(train_labels, y_train))"
   ]
  },
  {
   "cell_type": "code",
   "execution_count": null,
   "metadata": {},
   "outputs": [],
   "source": []
  }
 ],
 "metadata": {
  "kernelspec": {
   "display_name": "Python 3",
   "language": "python",
   "name": "python3"
  },
  "language_info": {
   "codemirror_mode": {
    "name": "ipython",
    "version": 3
   },
   "file_extension": ".py",
   "mimetype": "text/x-python",
   "name": "python",
   "nbconvert_exporter": "python",
   "pygments_lexer": "ipython3",
   "version": "3.7.2"
  }
 },
 "nbformat": 4,
 "nbformat_minor": 2
}
